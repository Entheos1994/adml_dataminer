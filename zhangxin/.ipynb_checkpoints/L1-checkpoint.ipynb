{
 "cells": [
  {
   "cell_type": "code",
   "execution_count": null,
   "metadata": {
    "collapsed": false,
    "deletable": true,
    "editable": true
   },
   "outputs": [],
   "source": [
    "import pandas as pd\n",
    "import numpy as np\n",
    "from sklearn.svm import LinearSVC\n",
    "from sklearn.feature_selection import SelectFromModel"
   ]
  },
  {
   "cell_type": "code",
   "execution_count": null,
   "metadata": {
    "collapsed": false,
    "deletable": true,
    "editable": true
   },
   "outputs": [],
   "source": [
    "data = pd.read_csv(\"train.csv\")\n",
    "data.shape"
   ]
  },
  {
   "cell_type": "code",
   "execution_count": null,
   "metadata": {
    "collapsed": true,
    "deletable": true,
    "editable": true
   },
   "outputs": [],
   "source": [
    "# the function of preprocessing data\n",
    "# use mean to fill missing data\n",
    "def feature_scale(arg):\n",
    "    scale_df = (arg - arg.mean())/arg.std(ddof = 1)\n",
    "    return scale_df\n",
    "\n",
    "def pre_process(df):\n",
    "    df[\"BMI_Ins_age\"] = df.BMI*df.Ins_Age\n",
    "    df[\"Product_Info_2\"] = pd.factorize(df.Product_Info_2)[0]\n",
    "    df = df.fillna(df.mean())\n",
    "#     std_df = feature_scale(df)\n",
    "    std_df = df.drop(\"Id\", axis =1)\n",
    "    return std_df\n",
    "\n",
    "def check_missing(df):\n",
    "    # Explore missing data\n",
    "    missing_data = df.isnull().sum()\n",
    "    # print(missing_data.dtypes)\n",
    "    # print(type(missing_data))\n",
    "    total_data = len(df)\n",
    "    df_missing_data = missing_data.to_frame()\n",
    "    df_missing_data.columns = ['counts']\n",
    "    # Identify missing categories\n",
    "    df_missing_data = df_missing_data[df_missing_data.counts != 0]\n",
    "    # Calculate missing percentage\n",
    "    df_missing_data['missing_percent'] = df_missing_data.counts / total_data\n",
    "    print(df_missing_data)\n",
    "    print(len(df_missing_data))\n",
    "    return df_missing_data\n",
    "\n",
    "def match(select_ls, ls):\n",
    "    new_ls = []\n",
    "    length = select_ls.shape[0]\n",
    "    for i in np.arange(length):\n",
    "        if str(select_ls[i]) == \"True\":\n",
    "            new_ls.append(str(ls[i]))\n",
    "    return new_ls"
   ]
  },
  {
   "cell_type": "code",
   "execution_count": null,
   "metadata": {
    "collapsed": false,
    "deletable": true,
    "editable": true
   },
   "outputs": [],
   "source": [
    "std_df = pre_process(data)\n",
    "y = std_df.Response # there is a problem with the std_df.Response\n",
    "x = std_df.drop(\"Response\", axis = 1) \n",
    "# print(x)"
   ]
  },
  {
   "cell_type": "code",
   "execution_count": null,
   "metadata": {
    "collapsed": false,
    "deletable": true,
    "editable": true,
    "scrolled": true
   },
   "outputs": [],
   "source": [
    "# feature selection\n",
    "lsvc = LinearSVC(C = 0.01, penalty=\"l1\", dual=False).fit(x,y)"
   ]
  },
  {
   "cell_type": "code",
   "execution_count": null,
   "metadata": {
    "collapsed": true,
    "deletable": true,
    "editable": true
   },
   "outputs": [],
   "source": [
    "lsvc2 = LinearSVC(C = 0.5, penalty = \"l1\", dual = False).fit(x,y)"
   ]
  },
  {
   "cell_type": "code",
   "execution_count": null,
   "metadata": {
    "collapsed": true,
    "deletable": true,
    "editable": true
   },
   "outputs": [],
   "source": [
    "lsvc3 = LinearSVC(C = 0.01, penalty=\"l2\", dual=False).fit(x,y)"
   ]
  },
  {
   "cell_type": "code",
   "execution_count": null,
   "metadata": {
    "collapsed": false,
    "deletable": true,
    "editable": true
   },
   "outputs": [],
   "source": [
    "model = SelectFromModel(lsvc, prefit=True)\n",
    "x_new = model.transform(x)\n",
    "x_new.shape \n",
    "new_data = data.drop(\"Id\",  axis =1)\n",
    "new_data = new_data.drop(\"Response\", axis =1)\n",
    "match(model.get_support(), new_data.columns.values)"
   ]
  },
  {
   "cell_type": "code",
   "execution_count": null,
   "metadata": {
    "collapsed": false,
    "deletable": true,
    "editable": true
   },
   "outputs": [],
   "source": [
    "model2 = SelectFromModel(lsvc2, prefit = True)\n",
    "x_new2 = model2.transform(x)\n",
    "x_new2.shape"
   ]
  },
  {
   "cell_type": "code",
   "execution_count": null,
   "metadata": {
    "collapsed": false,
    "deletable": true,
    "editable": true
   },
   "outputs": [],
   "source": [
    "model3 = SelectFromModel(lsvc3, prefit = True)\n",
    "x_new3 = model3.transform(x)\n",
    "x_new3.shape"
   ]
  }
 ],
 "metadata": {
  "kernelspec": {
   "display_name": "Python 3",
   "language": "python",
   "name": "python3"
  },
  "language_info": {
   "codemirror_mode": {
    "name": "ipython",
    "version": 3
   },
   "file_extension": ".py",
   "mimetype": "text/x-python",
   "name": "python",
   "nbconvert_exporter": "python",
   "pygments_lexer": "ipython3",
   "version": "3.5.2"
  }
 },
 "nbformat": 4,
 "nbformat_minor": 2
}
